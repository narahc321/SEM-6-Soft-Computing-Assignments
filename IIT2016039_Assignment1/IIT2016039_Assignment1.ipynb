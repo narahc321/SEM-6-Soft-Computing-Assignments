{
 "cells": [
  {
   "cell_type": "code",
   "execution_count": 1,
   "metadata": {},
   "outputs": [],
   "source": [
    "import numpy as np\n",
    "import pandas as pd\n",
    "import matplotlib.pyplot as plt"
   ]
  },
  {
   "cell_type": "code",
   "execution_count": 2,
   "metadata": {},
   "outputs": [],
   "source": [
    "def normalequation(X,Y):\n",
    "    iden=np.identity(6,dtype=int)\n",
    "    iden[0][0]=0\n",
    "    I=np.linalg.inv(np.dot(X.T,X))\n",
    "    XY=np.dot(X.T,Y)\n",
    "    W=np.dot(I,XY)\n",
    "    return W"
   ]
  },
  {
   "cell_type": "code",
   "execution_count": 3,
   "metadata": {},
   "outputs": [],
   "source": [
    "def load_data():\n",
    "    data = pd.read_csv(\"Housing Price data set.csv\")\n",
    "    return data\n",
    "#removing features with classification problem\n",
    "def change_data(data):\n",
    "    x={'yes':1,'no':0}\n",
    "    for i in data.columns:\n",
    "        if data[i].dtype=='object':\n",
    "            data=data.drop([i],axis=1)\n",
    "    return data\n",
    "\n",
    "data=load_data()\n",
    "data=change_data(data)\n",
    "#normalize data other than housing price\n",
    "for i in data.columns:\n",
    "#     if i!='price':\n",
    "    data[i] = (data[i] -data[i].mean())/data[i].std()\n",
    "c=[]\n",
    "for i in range(len(data)):\n",
    "    c.append(1)\n",
    "data.insert(loc=2, column='1', value=c)\n",
    "X=data.iloc[:,2:8]\n",
    "Y=data.iloc[:,1:2]\n",
    "X=np.array(X)\n",
    "Y=np.array(Y)\n"
   ]
  },
  {
   "cell_type": "code",
   "execution_count": 4,
   "metadata": {},
   "outputs": [],
   "source": [
    "def cost(prediction,Y,m,W):\n",
    "    tot=(1/(2*m))*(sum((prediction-Y)*(prediction-Y)))\n",
    "    return tot[0]"
   ]
  },
  {
   "cell_type": "code",
   "execution_count": 5,
   "metadata": {},
   "outputs": [],
   "source": [
    "def gradient_descent(X,Y,W,learning_rate,epochs):\n",
    "    R=[]\n",
    "    m=len(Y)\n",
    "    prediction = []\n",
    "    for i in range(epochs):\n",
    "        prediction=X.dot(W)\n",
    "        W = W -(1/m)*learning_rate*(X.T.dot(prediction - Y))\n",
    "        err=cost(prediction,Y,m,W)\n",
    "        R.append(err)\n",
    "    return W,R"
   ]
  },
  {
   "cell_type": "code",
   "execution_count": 6,
   "metadata": {
    "scrolled": false
   },
   "outputs": [
    {
     "name": "stdout",
     "output_type": "stream",
     "text": [
      "W-Normal Equation\n",
      "[[-7.58775430e-17]\n",
      " [ 3.84337540e-01]\n",
      " [ 6.59575210e-02]\n",
      " [ 3.03672825e-01]\n",
      " [ 2.56189746e-01]\n",
      " [ 1.73274748e-01]]\n",
      "W-Gradient Descent\n",
      "[[-1.85525181e-16]\n",
      " [ 3.84337540e-01]\n",
      " [ 6.59575210e-02]\n",
      " [ 3.03672825e-01]\n",
      " [ 2.56189746e-01]\n",
      " [ 1.73274748e-01]]\n",
      "Final cost of Normal Equation\n",
      "0.21893272895870813\n",
      "Final cost of Gradient Descent\n",
      "0.21893272895870836\n",
      "Epoch vs Cost\n"
     ]
    },
    {
     "data": {
      "image/png": "[encoded data removed]",
      "text/plain": [
       "<Figure size 432x288 with 1 Axes>"
      ]
     },
     "metadata": {
      "needs_background": "light"
     },
     "output_type": "display_data"
    }
   ],
   "source": [
    "D=[]\n",
    "for i in range(X.shape[1]):\n",
    "    D.append([0])\n",
    "D=np.array(D)\n",
    "epoch=500\n",
    "alpha=0.1\n",
    "# print(X.shape,W.shape)\n",
    "W=normalequation(X,Y)\n",
    "print(\"W-Normal Equation\")\n",
    "print(W)\n",
    "WG,J=gradient_descent(X,Y,D,alpha,epoch)\n",
    "print(\"W-Gradient Descent\")\n",
    "print(WG)\n",
    "predictedN=X.dot(W)\n",
    "errn=cost(predictedN,Y,len(Y),W)\n",
    "x=np.array([i for i in range(epoch)])\n",
    "y=np.array([errn for i in range(epoch)])\n",
    "print(\"Final cost of Normal Equation\")\n",
    "print(errn)\n",
    "print(\"Final cost of Gradient Descent\")\n",
    "print(J[-1])\n",
    "print(\"Epoch vs Cost\")\n",
    "plt.plot(x,y,'-r')\n",
    "plt.plot(x,J,'-b')\n",
    "plt.show()"
   ]
  }
 ],
 "metadata": {
  "kernelspec": {
   "display_name": "Python 3",
   "language": "python",
   "name": "python3"
  },
  "language_info": {
   "codemirror_mode": {
    "name": "ipython",
    "version": 3
   },
   "file_extension": ".py",
   "mimetype": "text/x-python",
   "name": "python",
   "nbconvert_exporter": "python",
   "pygments_lexer": "ipython3",
   "version": "3.6.6"
  }
 },
 "nbformat": 4,
 "nbformat_minor": 2
}
