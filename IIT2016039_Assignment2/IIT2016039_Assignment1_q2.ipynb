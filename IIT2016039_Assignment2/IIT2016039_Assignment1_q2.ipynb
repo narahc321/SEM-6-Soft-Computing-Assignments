{
 "cells": [
  {
   "cell_type": "code",
   "execution_count": 1,
   "metadata": {},
   "outputs": [],
   "source": [
    "import numpy as np\n",
    "import pandas as pd\n",
    "import matplotlib.pyplot as plt"
   ]
  },
  {
   "cell_type": "code",
   "execution_count": 2,
   "metadata": {},
   "outputs": [],
   "source": [
    "data = pd.read_csv(\"Housing Price data set.csv\")\n",
    "for i in data.columns:\n",
    "    x={'yes':1,'no':0}\n",
    "    if data[i].dtype=='object':\n",
    "#         data=data.drop([i],axis=1)\n",
    "        data[i]=data[i].map(x)\n",
    "data=data.drop(['Unnamed: 0'],axis=1)\n",
    "# data = shuffle(data) \n",
    "price_mean, price_std = data.mean()[0], data.std()[0]\n",
    "data  = (data - data.mean())/data.std()\n",
    "data.insert(loc=1,column='bias',value=np.ones([data.shape[0],1]))\n",
    "# print(data.head())\n",
    "inp = data.iloc[:,1:]\n",
    "outp = data.iloc[:,:1]\n",
    "# train_data, train_label = inp.iloc[:(int)(inp.shape[0]*.75),:] , outp.iloc[:(int)(inp.shape[0]*.75),:] \n",
    "# test_data, test_label = inp.iloc[(int)(inp.shape[0]*.75):,:] , outp.iloc[(int)(inp.shape[0]*.75):,:] \n",
    "train_data, train_label = inp, outp\n",
    "test_data, test_label = inp, outp\n",
    "# print(inp.head())\n",
    "# print(outp.head())"
   ]
  },
  {
   "cell_type": "code",
   "execution_count": 6,
   "metadata": {},
   "outputs": [
    {
     "name": "stdout",
     "output_type": "stream",
     "text": [
      "tau :  1 => accuracy :  91.3853507002078\n",
      "tau :  101 => accuracy :  82.33961020951273\n",
      "tau :  201 => accuracy :  82.33879111458734\n",
      "tau :  301 => accuracy :  82.33863782073276\n",
      "tau :  401 => accuracy :  82.33858396175602\n",
      "tau :  501 => accuracy :  82.33855898225467\n",
      "tau :  601 => accuracy :  82.33854539605514\n",
      "tau :  701 => accuracy :  82.33853719695044\n",
      "tau :  801 => accuracy :  82.33853187207961\n",
      "tau :  901 => accuracy :  82.33852821962357\n"
     ]
    },
    {
     "data": {
      "text/plain": [
       "[<matplotlib.lines.Line2D at 0x7fe2302e5eb8>]"
      ]
     },
     "execution_count": 6,
     "metadata": {},
     "output_type": "execute_result"
    },
    {
     "data": {
      "image/png": "[encoded data removed]",
      "text/plain": [
       "<Figure size 432x288 with 1 Axes>"
      ]
     },
     "metadata": {
      "needs_background": "light"
     },
     "output_type": "display_data"
    }
   ],
   "source": [
    "def tau_norm_weights(x, x0, tau):\n",
    "    weg = np.exp(np.sum((x-x0)*(x-x0), axis=1)/(-2*tau*tau))\n",
    "    weg = np.diag(weg)\n",
    "    return np.array(weg)\n",
    "\n",
    "def error_comp(H,Y):\n",
    "    return abs((Y - H)/ Y)\n",
    "\n",
    "def norm(X, Y, X0,tau):\n",
    "    weg = tau_norm_weights(X, X0, tau)\n",
    "    XWEG = X.T.dot(weg)\n",
    "    XY_Li=np.linalg.inv(np.dot(XWEG,X))\n",
    "    XY=np.dot(XWEG,Y)\n",
    "    W=np.dot(XY_Li,XY)\n",
    "    return W\n",
    "Tau=[]\n",
    "Accuracy=[]\n",
    "for tau in range(1,1001,100):\n",
    "    X = np.array(train_data)\n",
    "    Y = np.array(train_label)\n",
    "    tot = 0.0\n",
    "    for x0 in range(len(X)): \n",
    "        W = norm(X, Y, X[x0],tau)\n",
    "        prediction = np.array(X[x0].dot(W))\n",
    "        prediction = prediction * price_std + price_mean\n",
    "        YY = Y[x0] * price_std + price_mean\n",
    "        err = error_comp(prediction, YY)\n",
    "        tot += err\n",
    "    print(\"tau : \",tau,\"=> accuracy : \",(1-(tot/len(X))[0])*100)\n",
    "    Tau.append(tau)\n",
    "    Accuracy.append((1-(tot/len(X))[0])*100)\n",
    "plt.plot(Tau,Accuracy,'-r')"
   ]
  },
  {
   "cell_type": "code",
   "execution_count": 4,
   "metadata": {},
   "outputs": [
    {
     "name": "stdout",
     "output_type": "stream",
     "text": [
      "tau :  1 => accuracy :  83.12141168366337\n",
      "tau :  101 => accuracy :  82.33596842229981\n",
      "tau :  201 => accuracy :  82.33516514969371\n",
      "tau :  301 => accuracy :  82.33501481039936\n",
      "tau :  401 => accuracy :  82.33496198899883\n",
      "tau :  501 => accuracy :  82.33493749063274\n",
      "tau :  601 => accuracy :  82.33492416609666\n",
      "tau :  701 => accuracy :  82.33491612489469\n",
      "tau :  801 => accuracy :  82.33491090256999\n",
      "tau :  901 => accuracy :  82.33490732045125\n"
     ]
    },
    {
     "data": {
      "text/plain": [
       "[<matplotlib.lines.Line2D at 0x7fe2303d2240>]"
      ]
     },
     "execution_count": 4,
     "metadata": {},
     "output_type": "execute_result"
    },
    {
     "data": {
      "image/png": "[encoded data removed]",
      "text/plain": [
       "<Figure size 432x288 with 1 Axes>"
      ]
     },
     "metadata": {
      "needs_background": "light"
     },
     "output_type": "display_data"
    }
   ],
   "source": [
    "def cost(H,Y):\n",
    "    return ((1/(2*len(Y)))*(sum((H-Y)*(H-Y))))[0]\n",
    "\n",
    "\n",
    "def gradient_descent(X,Y,W,l,learning_rate,epochs,X0,tau):\n",
    "    weg = tau_norm_weights(X, X0, tau)\n",
    "    act_Y = Y.reshape(len(Y))\n",
    "    for i in range(epochs):\n",
    "        h_x=X.dot(W)\n",
    "        W = W - (1/len(Y))*learning_rate*((X.T.dot(weg)).dot(h_x - Y))\n",
    "    return W\n",
    "Tau=[]\n",
    "Accuracy=[]\n",
    "for tau in range(1,1001,100):\n",
    "    X = np.array(train_data)\n",
    "    Y = np.array(train_label)\n",
    "    tot = 0.0\n",
    "    learning_rate = 1e-1\n",
    "    epochs = 100\n",
    "    for x0 in range(len(X)): \n",
    "#         W = norm(X, Y, X[x0],tau)\n",
    "        W = np.zeros([X.shape[1],1])\n",
    "        W =gradient_descent(X,Y,W,0,learning_rate,epochs,X[x0],tau)\n",
    "        prediction = np.array(X[x0].dot(W))\n",
    "        prediction = prediction * price_std + price_mean\n",
    "        YY = Y[x0] * price_std + price_mean\n",
    "        err = error_comp(prediction, YY)\n",
    "        tot += err\n",
    "    print(\"tau : \",tau,\"=> accuracy : \",(1-(tot/len(X))[0])*100)\n",
    "    Tau.append(tau)\n",
    "    Accuracy.append((1-(tot/len(X))[0])*100)\n",
    "plt.plot(Tau,Accuracy,'-r')"
   ]
  }
 ],
 "metadata": {
  "kernelspec": {
   "display_name": "Python 3",
   "language": "python",
   "name": "python3"
  },
  "language_info": {
   "codemirror_mode": {
    "name": "ipython",
    "version": 3
   },
   "file_extension": ".py",
   "mimetype": "text/x-python",
   "name": "python",
   "nbconvert_exporter": "python",
   "pygments_lexer": "ipython3",
   "version": "3.6.6"
  }
 },
 "nbformat": 4,
 "nbformat_minor": 2
}
