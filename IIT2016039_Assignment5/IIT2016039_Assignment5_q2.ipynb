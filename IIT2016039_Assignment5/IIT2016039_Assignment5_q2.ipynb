{
 "cells": [
  {
   "cell_type": "code",
   "execution_count": 1,
   "metadata": {},
   "outputs": [],
   "source": [
    "# from tkinter import *\n",
    "# from PIL import ImageTk, Image\n",
    "\n",
    "# xpoint = []\n",
    "# ypoint = []\n",
    "# if __name__ == \"__main__\":\n",
    "#     root = Tk()\n",
    "\n",
    "#     #setting up a tkinter canvas with scrollbars\n",
    "#     frame = Frame(root, bd=2, relief=SUNKEN)\n",
    "#     frame.grid_rowconfigure(0, weight=1)\n",
    "#     frame.grid_columnconfigure(0, weight=1)\n",
    "#     xscroll = Scrollbar(frame, orient=HORIZONTAL)\n",
    "#     xscroll.grid(row=1, column=0, sticky=E+W)\n",
    "#     yscroll = Scrollbar(frame)\n",
    "#     yscroll.grid(row=0, column=1, sticky=N+S)\n",
    "#     canvas = Canvas(frame, bd=0, xscrollcommand=xscroll.set, yscrollcommand=yscroll.set)\n",
    "#     canvas.grid(row=0, column=0, sticky=N+S+E+W)\n",
    "#     xscroll.config(command=canvas.xview)\n",
    "#     yscroll.config(command=canvas.yview)\n",
    "#     frame.pack(fill=BOTH,expand=1)\n",
    "\n",
    "#     #adding the image\n",
    "#     File = \"images/images/4.jpg\"\n",
    "# #     File = askopenfilename(parent=root, initialdir=\"C:/\",title='Choose an image.')\n",
    "#     img = ImageTk.PhotoImage(Image.open(File))\n",
    "#     canvas.create_image(0,0,image=img,anchor=\"nw\")\n",
    "#     canvas.config(scrollregion=canvas.bbox(ALL))\n",
    "\n",
    "#     #function to be called when mouse is clicked\n",
    "#     def printcoords(event):\n",
    "#         global xpoint\n",
    "#         global ypoint\n",
    "#         #outputting x and y coords to console\n",
    "#         print (event.x,event.y)\n",
    "#         xpoint.append(event.x)\n",
    "#         ypoint.append(event.y)\n",
    "#     #mouseclick event\n",
    "#     canvas.bind(\"<Button 1>\",printcoords)\n",
    "\n",
    "#     root.mainloop()\n"
   ]
  },
  {
   "cell_type": "code",
   "execution_count": 2,
   "metadata": {
    "scrolled": true
   },
   "outputs": [
    {
     "name": "stdout",
     "output_type": "stream",
     "text": [
      "[2181 1456 1523 1217]\n",
      "50\n",
      "[4000 2509 2604 3340]\n",
      "[43.62 29.12 30.46 24.34]\n",
      "[40.   25.09 26.04 33.4 ]\n",
      "[[ 2.9156  2.6656  2.9148 -2.6908]\n",
      " [ 2.6656  3.5056  3.1448 -5.7208]\n",
      " [ 2.9148  3.1448  4.1684 -4.2164]\n",
      " [-2.6908 -5.7208 -4.2164 24.7844]]\n",
      "[[ 7.28    6.41    9.42    5.32  ]\n",
      " [ 6.41    7.0019  9.4364  7.674 ]\n",
      " [ 9.42    9.4364 15.8984  8.534 ]\n",
      " [ 5.32    7.674   8.534  34.08  ]]\n"
     ]
    }
   ],
   "source": [
    "import cv2 \n",
    "import imageio\n",
    "import numpy as np\n",
    "import pandas as pd\n",
    "import matplotlib.pyplot as plt\n",
    "from sklearn.utils import shuffle\n",
    "\n",
    "img1 = cv2.imread('images/images/1.jpg') \n",
    "img1 = cv2.cvtColor(img1, cv2.COLOR_BGR2GRAY)\n",
    "img1 = np.array(img1)\n",
    "\n",
    "img2 = cv2.imread('images/images/2.jpg') \n",
    "img2 = cv2.cvtColor(img2, cv2.COLOR_BGR2GRAY)\n",
    "img2 = np.array(img2)\n",
    "\n",
    "img3 = cv2.imread('images/images/3.jpg') \n",
    "img3 = cv2.cvtColor(img3, cv2.COLOR_BGR2GRAY)\n",
    "img3 = np.array(img3)\n",
    "\n",
    "img4 = cv2.imread('images/images/4.jpg') \n",
    "img4 = cv2.cvtColor(img4, cv2.COLOR_BGR2GRAY)\n",
    "img4 = np.array(img4)\n",
    "\n",
    "riv = shuffle(pd.read_csv('images/images/ariver.csv'))[:50][:]\n",
    "ri = []\n",
    "for index, row in riv.iterrows():\n",
    "    ri.append([ img1[int(row['x'])][int(row['y'])], img2[int(row['x'])][int(row['y'])],\n",
    "                 img3[int(row['x'])][int(row['y'])], img4[int(row['x'])][int(row['y'])] ])\n",
    "ri = np.array(ri)\n",
    "\n",
    "nriv = shuffle(pd.read_csv('images/images/anon_river.csv'))[:100][:]\n",
    "nri = []\n",
    "for index, row in nriv.iterrows():\n",
    "    nri.append([ img1[int(row['x'])][int(row['y'])], img2[int(row['x'])][int(row['y'])],\n",
    "                 img3[int(row['x'])][int(row['y'])], img4[int(row['x'])][int(row['y'])] ])\n",
    "nri = np.array(nri)\n",
    "\n",
    "\n",
    "mr = (ri.sum(axis=0)/ri.shape[0])\n",
    "mnr = (nri.sum(axis=0)/nri.shape[0])\n",
    "covar_r = (((ri - mr).T).dot(ri - mr))/ri.shape[0]\n",
    "covar_nr = (((nri - mnr).T).dot(nri - mnr))/nri.shape[0]\n",
    "\n",
    "# print(ri.sum(axis=0))\n",
    "# print(ri.shape[0])\n",
    "# print(nri.sum(axis=0))\n",
    "# print(mr)\n",
    "# print(mnr)\n",
    "# print(covar_r)\n",
    "# print(covar_nr)\n"
   ]
  },
  {
   "cell_type": "code",
   "execution_count": 3,
   "metadata": {},
   "outputs": [
    {
     "name": "stdout",
     "output_type": "stream",
     "text": [
      "(4, 512, 512)\n",
      "13785 248359\n"
     ]
    },
    {
     "data": {
      "text/plain": [
       "<function matplotlib.pyplot.show(*args, **kw)>"
      ]
     },
     "execution_count": 3,
     "metadata": {},
     "output_type": "execute_result"
    },
    {
     "data": {
      "image/png": "[encoded data removed]",
      "text/plain": [
       "<Figure size 432x288 with 1 Axes>"
      ]
     },
     "metadata": {
      "needs_background": "light"
     },
     "output_type": "display_data"
    }
   ],
   "source": [
    "test = np.array([img1,img2,img3,img4])\n",
    "print(test.shape)\n",
    "out = np.zeros([512,512])\n",
    "out.shape\n",
    "icovar_r = np.linalg.inv(covar_r)\n",
    "icovar_nr = np.linalg.inv(covar_nr)\n",
    "sqrt_det_covar_r = np.sqrt( np.linalg.det(covar_r))\n",
    "sqrt_det_covar_nr = np.sqrt(np.linalg.det(covar_nr))\n",
    "P1 = 0.3\n",
    "P2 = 0.7\n",
    "t55 = 0\n",
    "z = 0\n",
    "for i in range(512):\n",
    "    for j in range(512):\n",
    "        x = [test[0][i][j], test[1][i][j], test[2][i][j], test[3][i][j]]\n",
    "        rclass =   ((x-mr).T).dot(icovar_r).dot(x - mr)\n",
    "        nrclass =   ((x-mnr).T).dot(icovar_nr).dot(x - mnr)\n",
    "        p1 = -0.5 * P1 *  (1/sqrt_det_covar_r) * np.exp(rclass)\n",
    "        p2 = -0.5 * P2 *  (1/sqrt_det_covar_nr) * np.exp(nrclass)\n",
    "        if p1  >=  p2 :\n",
    "            t55+=1\n",
    "            out[i][j] = 255\n",
    "        else :\n",
    "            z+=1\n",
    "print(t55,z)\n",
    "plt.imshow(out, cmap='gray')\n",
    "plt.show"
   ]
  },
  {
   "cell_type": "code",
   "execution_count": 4,
   "metadata": {},
   "outputs": [
    {
     "name": "stdout",
     "output_type": "stream",
     "text": [
      "(4, 512, 512)\n",
      "11909 250235\n"
     ]
    },
    {
     "data": {
      "text/plain": [
       "<function matplotlib.pyplot.show(*args, **kw)>"
      ]
     },
     "execution_count": 4,
     "metadata": {},
     "output_type": "execute_result"
    },
    {
     "data": {
      "image/png": "[encoded data removed]",
      "text/plain": [
       "<Figure size 432x288 with 1 Axes>"
      ]
     },
     "metadata": {
      "needs_background": "light"
     },
     "output_type": "display_data"
    }
   ],
   "source": [
    "test = np.array([img1,img2,img3,img4])\n",
    "print(test.shape)\n",
    "out = np.zeros([512,512])\n",
    "out.shape\n",
    "icovar_r = np.linalg.inv(covar_r)\n",
    "icovar_nr = np.linalg.inv(covar_nr)\n",
    "sqrt_det_covar_r = np.sqrt( np.linalg.det(covar_r))\n",
    "sqrt_det_covar_nr = np.sqrt(np.linalg.det(covar_nr))\n",
    "P1 = 0.5\n",
    "P2 = 0.5\n",
    "t55 = 0\n",
    "z = 0\n",
    "for i in range(512):\n",
    "    for j in range(512):\n",
    "        x = [test[0][i][j], test[1][i][j], test[2][i][j], test[3][i][j]]\n",
    "        rclass =   ((x-mr).T).dot(icovar_r).dot(x - mr)\n",
    "        nrclass =   ((x-mnr).T).dot(icovar_nr).dot(x - mnr)\n",
    "        p1 = -0.5 * P1 *  (1/sqrt_det_covar_r) * np.exp(rclass)\n",
    "        p2 = -0.5 * P2 *  (1/sqrt_det_covar_nr) * np.exp(nrclass)\n",
    "        if p1  >=  p2 :\n",
    "            t55+=1\n",
    "            out[i][j] = 255\n",
    "        else :\n",
    "            z+=1\n",
    "print(t55,z)\n",
    "plt.imshow(out, cmap='gray')\n",
    "plt.show"
   ]
  },
  {
   "cell_type": "code",
   "execution_count": 5,
   "metadata": {},
   "outputs": [
    {
     "name": "stdout",
     "output_type": "stream",
     "text": [
      "(4, 512, 512)\n",
      "10940 251204\n"
     ]
    },
    {
     "data": {
      "text/plain": [
       "<function matplotlib.pyplot.show(*args, **kw)>"
      ]
     },
     "execution_count": 5,
     "metadata": {},
     "output_type": "execute_result"
    },
    {
     "data": {
      "image/png": "[encoded data removed]",
      "text/plain": [
       "<Figure size 432x288 with 1 Axes>"
      ]
     },
     "metadata": {
      "needs_background": "light"
     },
     "output_type": "display_data"
    }
   ],
   "source": [
    "test = np.array([img1,img2,img3,img4])\n",
    "print(test.shape)\n",
    "out = np.zeros([512,512])\n",
    "out.shape\n",
    "icovar_r = np.linalg.inv(covar_r)\n",
    "icovar_nr = np.linalg.inv(covar_nr)\n",
    "sqrt_det_covar_r = np.sqrt( np.linalg.det(covar_r))\n",
    "sqrt_det_covar_nr = np.sqrt(np.linalg.det(covar_nr))\n",
    "P1 = 0.7\n",
    "P2 = 0.3\n",
    "t55 = 0\n",
    "z = 0\n",
    "for i in range(512):\n",
    "    for j in range(512):\n",
    "        x = [test[0][i][j], test[1][i][j], test[2][i][j], test[3][i][j]]\n",
    "        rclass =   ((x-mr).T).dot(icovar_r).dot(x - mr)\n",
    "        nrclass =   ((x-mnr).T).dot(icovar_nr).dot(x - mnr)\n",
    "        p1 = -0.5 * P1 *  (1/sqrt_det_covar_r) * np.exp(rclass)\n",
    "        p2 = -0.5 * P2 *  (1/sqrt_det_covar_nr) * np.exp(nrclass)\n",
    "        if p1  >=  p2 :\n",
    "            t55+=1\n",
    "            out[i][j] = 255\n",
    "        else :\n",
    "            z+=1\n",
    "print(t55,z)\n",
    "plt.imshow(out, cmap='gray')\n",
    "plt.show"
   ]
  }
 ],
 "metadata": {
  "kernelspec": {
   "display_name": "Python 3",
   "language": "python",
   "name": "python3"
  },
  "language_info": {
   "codemirror_mode": {
    "name": "ipython",
    "version": 3
   },
   "file_extension": ".py",
   "mimetype": "text/x-python",
   "name": "python",
   "nbconvert_exporter": "python",
   "pygments_lexer": "ipython3",
   "version": "3.7.1"
  }
 },
 "nbformat": 4,
 "nbformat_minor": 2
}
