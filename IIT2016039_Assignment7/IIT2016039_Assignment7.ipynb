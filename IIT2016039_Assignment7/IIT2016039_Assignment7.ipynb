{
 "cells": [
  {
   "cell_type": "code",
   "execution_count": 1,
   "metadata": {
    "scrolled": true
   },
   "outputs": [],
   "source": [
    "import random\n",
    "import numpy as np\n",
    "import matplotlib.pyplot as plt\n",
    "from sklearn.discriminant_analysis import LinearDiscriminantAnalysis\n",
    "import pandas as pd\n",
    "from sklearn.metrics import confusion_matrix\n",
    "from sklearn.metrics import roc_curve, roc_auc_score"
   ]
  },
  {
   "cell_type": "code",
   "execution_count": 2,
   "metadata": {},
   "outputs": [
    {
     "name": "stderr",
     "output_type": "stream",
     "text": [
      "C:\\Users\\Narahc\\Anaconda3\\lib\\site-packages\\sklearn\\utils\\validation.py:761: DataConversionWarning: A column-vector y was passed when a 1d array was expected. Please change the shape of y to (n_samples, ), for example using ravel().\n",
      "  y = column_or_1d(y, warn=True)\n",
      "C:\\Users\\Narahc\\Anaconda3\\lib\\site-packages\\sklearn\\discriminant_analysis.py:388: UserWarning: Variables are collinear.\n",
      "  warnings.warn(\"Variables are collinear.\")\n"
     ]
    },
    {
     "data": {
      "text/plain": [
       "((8414, 785),\n",
       " (8414, 1),\n",
       " (8414, 1),\n",
       " (5048, 1),\n",
       " (1683, 1),\n",
       " (1683, 1),\n",
       " (5048, 1),\n",
       " (1683, 1),\n",
       " (1683, 1))"
      ]
     },
     "execution_count": 2,
     "metadata": {},
     "output_type": "execute_result"
    }
   ],
   "source": [
    "data = pd.read_csv(\"train_mnist.csv\")\n",
    "data = data.loc[(data['label']==3) | (data['label']==8)]\n",
    "dic = {3:-1,8:1}\n",
    "data['label'] = data['label'].map(dic)\n",
    "outp, inp = np.array(data.iloc[:,:1]), np.array(data.iloc[:,1:])\n",
    "\n",
    "lda = LinearDiscriminantAnalysis(n_components=1)\n",
    "inp = lda.fit(inp, outp).transform(inp)\n",
    "\n",
    "\n",
    "Xtn, Xtt, Xval = inp[:int(0.6*inp.shape[0]),:], inp[int(0.6*inp.shape[0]):int(0.8*inp.shape[0]),:], inp[int(0.8*inp.shape[0]):,:]\n",
    "Ytn, Ytt, Yval = outp[:int(0.6*outp.shape[0])], outp[int(0.6*outp.shape[0]):int(0.8*outp.shape[0])], outp[int(0.8*outp.shape[0]):]\n",
    "data.shape,inp.shape,outp.shape,Xtn.shape,Xtt.shape,Xval.shape,Ytn.shape,Ytt.shape,Yval.shape"
   ]
  },
  {
   "cell_type": "code",
   "execution_count": 3,
   "metadata": {},
   "outputs": [],
   "source": [
    "def kernel(x, y, typ):\n",
    "    if typ == \"rbf\":\n",
    "        sig = 1\n",
    "        return np.exp(-np.linalg.norm(x - y)**2/(2 * sig**2))\n",
    "    \n",
    "    if typ == \"quadratic\":\n",
    "        return (np.dot(x, y.T) ** 2)\n",
    "    \n",
    "    if typ == \"linear\":\n",
    "        return np.dot(x, y)"
   ]
  },
  {
   "cell_type": "code",
   "execution_count": 4,
   "metadata": {},
   "outputs": [],
   "source": [
    "def predict_accuracy(X, Y, T):\n",
    "    predictions = W.T.dot(X.T) + B\n",
    "    predictions = predictions.flatten()\n",
    "    accuracy = 0\n",
    "    for i in range(predictions.shape[0]):\n",
    "        if(predictions[i]>T):\n",
    "            predictions[i] = 1\n",
    "        else:\n",
    "            predictions[i] = -1\n",
    "        if predictions[i] == Y[i]:\n",
    "            accuracy += 1\n",
    "    return predictions,accuracy/Y.shape[0]"
   ]
  },
  {
   "cell_type": "code",
   "execution_count": 5,
   "metadata": {},
   "outputs": [
    {
     "name": "stdout",
     "output_type": "stream",
     "text": [
      "0.9756387403446227\n"
     ]
    }
   ],
   "source": [
    "max_skips = 5\n",
    "tolerence = 0.00001\n",
    "\n",
    "C = 1\n",
    "accu_vals = []\n",
    "c_ranges = []\n",
    "tol_ranges = []\n",
    "steps = []\n",
    "# for tol in range(1,100,5):\n",
    "#     tolerence = 0.01/(tol*10)\n",
    "# for c in range(0,100,5):\n",
    "#     C = c/100.0\n",
    "if True:\n",
    "    n_samples, dimensions = Xtn.shape[0], Xtn.shape[1] \n",
    "    alp = np.zeros([n_samples,1])\n",
    "    W = np.zeros([dimensions,1])\n",
    "    B = 0\n",
    "    skips =0\n",
    "    kernal_type = \"quadratic\"\n",
    "    while skips < max_skips:\n",
    "    #     print(skips)\n",
    "        changed = False\n",
    "        skips = skips + 1\n",
    "        prev_alp = np.copy(alp)\n",
    "        for i in range(n_samples):\n",
    "            xi, yi = Xtn[i,:], Ytn[i]\n",
    "            Ei = np.sign((W.T.dot(xi.T)) + B) - yi\n",
    "            if True:\n",
    "    #         if ((yi*Ei) < -tolerence and alp[i] < C) or ((yi*Ei) > tolerence and alp[i] > C): \n",
    "                random_numbers = random.sample(range(0,n_samples), 2)\n",
    "                j = random_numbers[0]\n",
    "                if i==j:\n",
    "                    j = random_numbers[1]\n",
    "\n",
    "                xj, yj = Xtn[j,:], Ytn[j]\n",
    "\n",
    "\n",
    "                Ej = np.sign(W.T.dot(xj.T) + B) - yj\n",
    "                old_ai, old_aj =  alp[i], alp[j]\n",
    "\n",
    "                if(yi != yj):\n",
    "                    L = max(0, alp[j] - alp[i])\n",
    "                    H = min(C, C + alp[j] - alp[i])\n",
    "                else:\n",
    "                    L = max(0, alp[j] + alp[i] -C)\n",
    "                    H = min(C, alp[j] + alp[i])\n",
    "                if L==H:\n",
    "                    continue\n",
    "\n",
    "                n_val = 2 * kernel(xi, xj,kernal_type) - kernel(xi, xi,kernal_type) - kernel(xj, xj, kernal_type)\n",
    "                \n",
    "                \n",
    "                if n_val==0:\n",
    "                    continue\n",
    "                alp[j] = alp[j] - float(yj*(Ei-Ej))/n_val\n",
    "\n",
    "                alp[j] = max(L, min(H, alp[j]))\n",
    "\n",
    "                alp[i] = alp[i] + yi * yj * (old_aj - alp[j])\n",
    "\n",
    "                W =  Xtn.T.dot(alp*Ytn)\n",
    "                b1 = B - Ei - yi*(alp[i] - old_ai)*(xi.dot(xi.T)) - yj * (alp[j] - old_aj)*(xi.dot(xj.T))\n",
    "                b2 = B - Ej - yi*(alp[i] - old_ai)*(xi.dot(xj.T)) - yj * (alp[j] - old_aj)*(xj.dot(xj.T))\n",
    "\n",
    "                if old_ai > 0 and old_ai < C and (old_aj <= 0 or old_aj >= C):\n",
    "                    bt = b1\n",
    "                elif old_aj > 0 and old_aj < C and (old_ai <= 0 or old_ai >= C):\n",
    "                    bt = b2\n",
    "                else:\n",
    "                    bt = (b1 + b2)/2\n",
    "                    \n",
    "#                 bt = Ytn - np.dot(W.T, Xtn.T)\n",
    "#                 B = np.mean(bt)\n",
    "        err = np.linalg.norm(alp - prev_alp)\n",
    "        steps.append(skips)\n",
    "        predictions, accuracy = predict_accuracy(Xval, Yval, 0)\n",
    "#         accu_vals.append(accuracy)\n",
    "#         print(\"error :\",err)\n",
    "        if  err < tolerence:\n",
    "            break\n",
    "    predictions, accuracy = predict_accuracy(Xval, Yval, 0)\n",
    "    print(accuracy)\n",
    "    c_ranges.append(C)\n",
    "#     tol_ranges.append(tolerence)\n",
    "    accu_vals.append(accuracy)\n",
    "\n",
    "# plt.title(\"C vs Accuaracy\")\n",
    "# plt.xlabel(\"C values\")\n",
    "# plt.ylabel(\"Accuracy\")\n",
    "# plt.plot(c_ranges, accu_vals, '-ro')\n",
    "\n",
    "# plt.title(\"tolerence vs Accuaracy\")\n",
    "# plt.xlabel(\"tolerence\")\n",
    "# plt.ylabel(\"Accuracy\")\n",
    "# plt.plot(tol_ranges, accu_vals, '-ro')\n",
    "\n",
    "# plt.title(\"steps vs Accuaracy\")\n",
    "# plt.xlabel(\"steps\")\n",
    "# plt.ylabel(\"Accuracy\")\n",
    "# plt.plot(steps, accu_vals, '-ro')\n",
    "\n",
    "\n",
    "\n",
    "W =  Xtn.T.dot(alp*Ytn)\n",
    "\n",
    "b1 = B - Ei - yi*(alp[i] - old_ai)*(xi.dot(xi.T)) - yj * (alp[j] - old_aj)*(xi.dot(xj.T))\n",
    "b2 = B - Ej - yi*(alp[i] - old_ai)*(xi.dot(xj.T)) - yj * (alp[j] - old_aj)*(xj.dot(xj.T))\n",
    "\n",
    "if old_ai > 0 and old_ai < C and (old_aj <= 0 or old_aj >= C):\n",
    "    bt = b1\n",
    "elif old_aj > 0 and old_aj < C and (old_ai <= 0 or old_ai >= C):\n",
    "    bt = b2\n",
    "else:\n",
    "    bt = (b1 + b2)/2\n",
    "\n",
    "B = np.mean(bt)"
   ]
  },
  {
   "cell_type": "code",
   "execution_count": 6,
   "metadata": {},
   "outputs": [
    {
     "data": {
      "text/plain": [
       "[<matplotlib.lines.Line2D at 0x24c695ff5f8>]"
      ]
     },
     "execution_count": 6,
     "metadata": {},
     "output_type": "execute_result"
    },
    {
     "data": {
      "image/png": "[encoded data removed]",
      "text/plain": [
       "<Figure size 432x288 with 1 Axes>"
      ]
     },
     "metadata": {
      "needs_background": "light"
     },
     "output_type": "display_data"
    }
   ],
   "source": [
    "true_p = []\n",
    "false_p = []\n",
    "\n",
    "for T in range(-100, 100, 1):\n",
    "    predictions, accuracy = predict_accuracy(Xval, Yval, T)\n",
    "    mat = confusion_matrix(Yval, predictions)\n",
    "    true_p.append((mat[0][0])/(mat[0][0]+mat[1][0]))\n",
    "    false_p.append((mat[0][1])/(mat[0][1]+mat[1][1]))\n",
    "plt.title(\"ROC Curve\")\n",
    "plt.xlabel(\"False Positive\")\n",
    "plt.ylabel(\"True Positive\")\n",
    "plt.plot(false_p, true_p, '-bo')"
   ]
  },
  {
   "cell_type": "code",
   "execution_count": 7,
   "metadata": {},
   "outputs": [
    {
     "name": "stdout",
     "output_type": "stream",
     "text": [
      "Validation Accuracy:  0.9756387403446227\n",
      "Test Accuracy:  0.9691027926322044\n"
     ]
    }
   ],
   "source": [
    "predictions, accuracy = predict_accuracy(Xval, Yval, 0)\n",
    "print(\"Validation Accuracy: \",accuracy)\n",
    "\n",
    "predictions, accuracy = predict_accuracy(Xtt, Ytt, 0)\n",
    "print(\"Test Accuracy: \",accuracy)"
   ]
  },
  {
   "cell_type": "code",
   "execution_count": 8,
   "metadata": {},
   "outputs": [
    {
     "name": "stdout",
     "output_type": "stream",
     "text": [
      "AUC: 0.99\n"
     ]
    },
    {
     "data": {
      "image/png": "[encoded data removed]",
      "text/plain": [
       "<Figure size 432x288 with 1 Axes>"
      ]
     },
     "metadata": {
      "needs_background": "light"
     },
     "output_type": "display_data"
    }
   ],
   "source": [
    "predictions = W.T.dot(Xtt.T) + B\n",
    "predictions = predictions.flatten()\n",
    "auc = roc_auc_score(Ytt, predictions)  \n",
    "print('AUC: %.2f' % auc)  \n",
    "fpr, tpr, thresholds = roc_curve(Ytt, predictions)  \n",
    "plt.plot(fpr, tpr, color='orange', label='ROC')\n",
    "plt.plot([0, 1], [0, 1], color='darkblue', linestyle='--')\n",
    "plt.xlabel('False Positive Rate')\n",
    "plt.ylabel('True Positive Rate')\n",
    "plt.title('Receiver Operating Characteristic (ROC) Curve')\n",
    "plt.legend()\n",
    "plt.show()"
   ]
  },
  {
   "cell_type": "code",
   "execution_count": null,
   "metadata": {},
   "outputs": [],
   "source": []
  },
  {
   "cell_type": "code",
   "execution_count": null,
   "metadata": {},
   "outputs": [],
   "source": []
  }
 ],
 "metadata": {
  "kernelspec": {
   "display_name": "Python 3",
   "language": "python",
   "name": "python3"
  },
  "language_info": {
   "codemirror_mode": {
    "name": "ipython",
    "version": 3
   },
   "file_extension": ".py",
   "mimetype": "text/x-python",
   "name": "python",
   "nbconvert_exporter": "python",
   "pygments_lexer": "ipython3",
   "version": "3.7.1"
  }
 },
 "nbformat": 4,
 "nbformat_minor": 2
}
